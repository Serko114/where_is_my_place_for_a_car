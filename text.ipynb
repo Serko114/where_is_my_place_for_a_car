{
 "cells": [
  {
   "cell_type": "code",
   "execution_count": 1,
   "id": "80d3f992",
   "metadata": {},
   "outputs": [
    {
     "data": {
      "text/plain": [
       "25"
      ]
     },
     "execution_count": 1,
     "metadata": {},
     "output_type": "execute_result"
    }
   ],
   "source": [
    "12 + 13"
   ]
  },
  {
   "cell_type": "code",
   "execution_count": 4,
   "id": "5cc7f03b",
   "metadata": {},
   "outputs": [
    {
     "name": "stdout",
     "output_type": "stream",
     "text": [
      "tensor([[0.2132, 0.0944, 0.4950],\n",
      "        [0.3753, 0.5556, 0.2424],\n",
      "        [0.3507, 0.0588, 0.9137],\n",
      "        [0.0999, 0.9816, 0.5770],\n",
      "        [0.9749, 0.3135, 0.9517]])\n"
     ]
    }
   ],
   "source": [
    "import torch\n",
    "import cv2\n",
    "import os\n",
    "x = torch.rand(5, 3)\n",
    "print(x)"
   ]
  },
  {
   "cell_type": "code",
   "execution_count": 8,
   "id": "250c6a77",
   "metadata": {},
   "outputs": [],
   "source": [
    "# блок переименовывания картинок:\n",
    "for _,i in enumerate(os.listdir('data/фото_для_детекции/фото')):\n",
    "    photo = f'data/фото_для_детекции/фото/{i}'\n",
    "    new_photo = f'data/фото_для_детекции/фото/looking_for_a_fox_{_}.png'\n",
    "    os.rename(photo, new_photo)"
   ]
  },
  {
   "cell_type": "code",
   "execution_count": null,
   "id": "ea592b26",
   "metadata": {},
   "outputs": [
    {
     "data": {
      "text/plain": [
       "(3, 1080, 1920)"
      ]
     },
     "execution_count": 3,
     "metadata": {},
     "output_type": "execute_result"
    }
   ],
   "source": [
    "# меняем каналы массива np.array:\n",
    "pic = cv2.imread('130625_1_001.png').transpose(-1,0,1)\n",
    "pic.shape"
   ]
  },
  {
   "cell_type": "code",
   "execution_count": null,
   "id": "28c95999",
   "metadata": {},
   "outputs": [],
   "source": [
    "# блок просмотра картинки:\n",
    "cv2.imshow('image',pic[2])\n",
    "cv2.waitKey(0)\n",
    "cv2.destroyAllWindows()"
   ]
  }
 ],
 "metadata": {
  "kernelspec": {
   "display_name": "Python 3",
   "language": "python",
   "name": "python3"
  },
  "language_info": {
   "codemirror_mode": {
    "name": "ipython",
    "version": 3
   },
   "file_extension": ".py",
   "mimetype": "text/x-python",
   "name": "python",
   "nbconvert_exporter": "python",
   "pygments_lexer": "ipython3",
   "version": "3.12.11"
  }
 },
 "nbformat": 4,
 "nbformat_minor": 5
}
