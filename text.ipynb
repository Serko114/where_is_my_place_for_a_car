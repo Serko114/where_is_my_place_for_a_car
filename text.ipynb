{
 "cells": [
  {
   "cell_type": "code",
   "execution_count": null,
   "id": "5cc7f03b",
   "metadata": {},
   "outputs": [
    {
     "ename": "",
     "evalue": "",
     "output_type": "error",
     "traceback": [
      "\u001b[1;31mДля выполнения ячеек с \".conda (Python 3.12.11)\" требуется пакет ipykernel.\n",
      "\u001b[1;31mУстановите \"ipykernel\" в среде Python. \n",
      "\u001b[1;31mКоманда: \"conda install -n .conda ipykernel --update-deps --force-reinstall\""
     ]
    }
   ],
   "source": [
    "import torch\n",
    "import cv2\n",
    "x = torch.rand(5, 3)\n",
    "print(x)"
   ]
  },
  {
   "cell_type": "code",
   "execution_count": 3,
   "id": "ea592b26",
   "metadata": {},
   "outputs": [
    {
     "data": {
      "text/plain": [
       "(3, 1080, 1920)"
      ]
     },
     "execution_count": 3,
     "metadata": {},
     "output_type": "execute_result"
    }
   ],
   "source": [
    "pic = cv2.imread('130625_1_001.png').transpose(-1,0,1)\n",
    "pic.shape"
   ]
  },
  {
   "cell_type": "code",
   "execution_count": 4,
   "id": "28c95999",
   "metadata": {},
   "outputs": [],
   "source": [
    "cv2.imshow('image',pic[2])\n",
    "cv2.waitKey(0)\n",
    "cv2.destroyAllWindows()"
   ]
  },
  {
   "cell_type": "code",
   "execution_count": null,
   "id": "3fc39333",
   "metadata": {},
   "outputs": [
    {
     "ename": "",
     "evalue": "",
     "output_type": "error",
     "traceback": [
      "\u001b[1;31mПри выполнении кода в текущей ячейке или предыдущей ячейке ядро аварийно завершило работу. \n",
      "\u001b[1;31mПроверьте код в ячейках, чтобы определить возможную причину сбоя. \n",
      "\u001b[1;31mЩелкните <a href='https://aka.ms/vscodeJupyterKernelCrash'>здесь</a>, чтобы получить дополнительные сведения. \n",
      "\u001b[1;31mПодробнее см. в <a href='command:jupyter.viewOutput'>журнале Jupyter</a>."
     ]
    }
   ],
   "source": [
    "# cv2.imshow('sdsd', pic[0])"
   ]
  },
  {
   "cell_type": "code",
   "execution_count": 1,
   "id": "250c6a77",
   "metadata": {},
   "outputs": [
    {
     "data": {
      "text/plain": [
       "52"
      ]
     },
     "execution_count": 1,
     "metadata": {},
     "output_type": "execute_result"
    }
   ],
   "source": [
    "45+7"
   ]
  }
 ],
 "metadata": {
  "kernelspec": {
   "display_name": ".conda",
   "language": "python",
   "name": "python3"
  },
  "language_info": {
   "codemirror_mode": {
    "name": "ipython",
    "version": 3
   },
   "file_extension": ".py",
   "mimetype": "text/x-python",
   "name": "python",
   "nbconvert_exporter": "python",
   "pygments_lexer": "ipython3",
   "version": "3.12.11"
  }
 },
 "nbformat": 4,
 "nbformat_minor": 5
}
